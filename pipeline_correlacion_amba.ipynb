{
 "cells": [
  {
   "cell_type": "markdown",
   "id": "4f2f6670",
   "metadata": {},
   "source": [
    "# Correlación Carga ↔ Temperatura ↔ Cortes (AMBA)"
   ]
  },
  {
   "cell_type": "markdown",
   "id": "9d531ec7",
   "metadata": {},
   "source": [
    "**Este notebook corre end-to-end con datos de ejemplo en `data/raw/`.**"
   ]
  },
  {
   "cell_type": "code",
   "id": "3d415f13",
   "metadata": {
    "ExecuteTime": {
     "end_time": "2025-09-28T22:16:50.156111Z",
     "start_time": "2025-09-28T22:16:50.150876Z"
    }
   },
   "source": [
    "\n",
    "# %pip install pandas numpy matplotlib scipy statsmodels requests\n",
    "import os, warnings\n",
    "from pathlib import Path\n",
    "import numpy as np, pandas as pd\n",
    "import matplotlib.pyplot as plt\n",
    "from scipy import stats\n",
    "import statsmodels.api as sm\n",
    "\n",
    "warnings.filterwarnings(\"ignore\")\n",
    "TZ = \"America/Argentina/Buenos_Aires\"\n",
    "BASE = Path().resolve()\n",
    "DATA_RAW = BASE / \"data\" / \"raw\"\n",
    "DATA_INTERIM = BASE / \"data\" / \"interim\"\n",
    "DATA_PROCESSED = BASE / \"data\" / \"processed\"\n",
    "OUTPUTS = BASE / \"outputs\"\n",
    "for p in [DATA_RAW, DATA_INTERIM, DATA_PROCESSED, OUTPUTS]:\n",
    "    p.mkdir(parents=True, exist_ok=True)\n",
    "DATE_START = \"2025-01-01\"; DATE_END = \"2025-03-31\"\n",
    "PATH_DEMANDA_HORARIA = DATA_RAW / \"sample_demand_gba_hourly.csv\"\n",
    "PATH_TEMPERATURA_D   = DATA_RAW / \"sample_temperature_daily.csv\"\n",
    "PATH_SAIDI_SAIFI     = DATA_RAW / \"sample_enre_saidi_saifi.csv\"\n",
    "PATH_CORTES_D        = DATA_RAW / \"sample_cortes_daily.csv\"\n"
   ],
   "outputs": [],
   "execution_count": 4
  },
  {
   "cell_type": "code",
   "id": "951e1506",
   "metadata": {
    "ExecuteTime": {
     "end_time": "2025-09-28T22:16:52.887683Z",
     "start_time": "2025-09-28T22:16:52.773915Z"
    }
   },
   "source": [
    "from PIL._imaging import display\n",
    "\n",
    "# Carga de datos (demo)\n",
    "dem_h = pd.read_csv(PATH_DEMANDA_HORARIA, parse_dates=[\"datetime\"])\n",
    "if dem_h[\"datetime\"].dt.tz is None:\n",
    "    dem_h[\"datetime\"] = dem_h[\"datetime\"].dt.tz_localize(\"UTC\").dt.tz_convert(TZ)\n",
    "dem_h = dem_h[(dem_h[\"datetime\"]>=pd.Timestamp(DATE_START, tz=TZ)) & (dem_h[\"datetime\"]<=pd.Timestamp(DATE_END, tz=TZ)+pd.Timedelta(days=1))]\n",
    "temp_d = pd.read_csv(PATH_TEMPERATURA_D, parse_dates=[\"date\"])\n",
    "temp_d[\"date\"] = temp_d[\"date\"].dt.tz_localize(TZ).dt.normalize()\n",
    "saifi = pd.read_csv(PATH_SAIDI_SAIFI, parse_dates=[\"semester_start\",\"semester_end\"])\n",
    "cortes_d = pd.read_csv(PATH_CORTES_D, parse_dates=[\"date\"])\n",
    "cortes_d[\"date\"] = cortes_d[\"date\"].dt.tz_localize(TZ).dt.normalize()\n",
    "display(dem_h.head()); display(temp_d.head()); display(saifi.head()); display(cortes_d.head())\n"
   ],
   "outputs": [
    {
     "ename": "FileNotFoundError",
     "evalue": "[Errno 2] No such file or directory: 'C:\\\\Users\\\\TP_Ar\\\\PycharmProjects\\\\red electrica\\\\data\\\\raw\\\\sample_demand_gba_hourly.csv'",
     "output_type": "error",
     "traceback": [
      "\u001B[31m---------------------------------------------------------------------------\u001B[39m",
      "\u001B[31mFileNotFoundError\u001B[39m                         Traceback (most recent call last)",
      "\u001B[36mCell\u001B[39m\u001B[36m \u001B[39m\u001B[32mIn[5]\u001B[39m\u001B[32m, line 4\u001B[39m\n\u001B[32m      1\u001B[39m \u001B[38;5;28;01mfrom\u001B[39;00m\u001B[38;5;250m \u001B[39m\u001B[34;01mPIL\u001B[39;00m\u001B[34;01m.\u001B[39;00m\u001B[34;01m_imaging\u001B[39;00m\u001B[38;5;250m \u001B[39m\u001B[38;5;28;01mimport\u001B[39;00m display\n\u001B[32m      3\u001B[39m \u001B[38;5;66;03m# Carga de datos (demo)\u001B[39;00m\n\u001B[32m----> \u001B[39m\u001B[32m4\u001B[39m dem_h = \u001B[43mpd\u001B[49m\u001B[43m.\u001B[49m\u001B[43mread_csv\u001B[49m\u001B[43m(\u001B[49m\u001B[43mPATH_DEMANDA_HORARIA\u001B[49m\u001B[43m,\u001B[49m\u001B[43m \u001B[49m\u001B[43mparse_dates\u001B[49m\u001B[43m=\u001B[49m\u001B[43m[\u001B[49m\u001B[33;43m\"\u001B[39;49m\u001B[33;43mdatetime\u001B[39;49m\u001B[33;43m\"\u001B[39;49m\u001B[43m]\u001B[49m\u001B[43m)\u001B[49m\n\u001B[32m      5\u001B[39m \u001B[38;5;28;01mif\u001B[39;00m dem_h[\u001B[33m\"\u001B[39m\u001B[33mdatetime\u001B[39m\u001B[33m\"\u001B[39m].dt.tz \u001B[38;5;129;01mis\u001B[39;00m \u001B[38;5;28;01mNone\u001B[39;00m:\n\u001B[32m      6\u001B[39m     dem_h[\u001B[33m\"\u001B[39m\u001B[33mdatetime\u001B[39m\u001B[33m\"\u001B[39m] = dem_h[\u001B[33m\"\u001B[39m\u001B[33mdatetime\u001B[39m\u001B[33m\"\u001B[39m].dt.tz_localize(\u001B[33m\"\u001B[39m\u001B[33mUTC\u001B[39m\u001B[33m\"\u001B[39m).dt.tz_convert(TZ)\n",
      "\u001B[36mFile \u001B[39m\u001B[32m~\\PycharmProjects\\red electrica\\.venv\\Lib\\site-packages\\pandas\\io\\parsers\\readers.py:1026\u001B[39m, in \u001B[36mread_csv\u001B[39m\u001B[34m(filepath_or_buffer, sep, delimiter, header, names, index_col, usecols, dtype, engine, converters, true_values, false_values, skipinitialspace, skiprows, skipfooter, nrows, na_values, keep_default_na, na_filter, verbose, skip_blank_lines, parse_dates, infer_datetime_format, keep_date_col, date_parser, date_format, dayfirst, cache_dates, iterator, chunksize, compression, thousands, decimal, lineterminator, quotechar, quoting, doublequote, escapechar, comment, encoding, encoding_errors, dialect, on_bad_lines, delim_whitespace, low_memory, memory_map, float_precision, storage_options, dtype_backend)\u001B[39m\n\u001B[32m   1013\u001B[39m kwds_defaults = _refine_defaults_read(\n\u001B[32m   1014\u001B[39m     dialect,\n\u001B[32m   1015\u001B[39m     delimiter,\n\u001B[32m   (...)\u001B[39m\u001B[32m   1022\u001B[39m     dtype_backend=dtype_backend,\n\u001B[32m   1023\u001B[39m )\n\u001B[32m   1024\u001B[39m kwds.update(kwds_defaults)\n\u001B[32m-> \u001B[39m\u001B[32m1026\u001B[39m \u001B[38;5;28;01mreturn\u001B[39;00m \u001B[43m_read\u001B[49m\u001B[43m(\u001B[49m\u001B[43mfilepath_or_buffer\u001B[49m\u001B[43m,\u001B[49m\u001B[43m \u001B[49m\u001B[43mkwds\u001B[49m\u001B[43m)\u001B[49m\n",
      "\u001B[36mFile \u001B[39m\u001B[32m~\\PycharmProjects\\red electrica\\.venv\\Lib\\site-packages\\pandas\\io\\parsers\\readers.py:620\u001B[39m, in \u001B[36m_read\u001B[39m\u001B[34m(filepath_or_buffer, kwds)\u001B[39m\n\u001B[32m    617\u001B[39m _validate_names(kwds.get(\u001B[33m\"\u001B[39m\u001B[33mnames\u001B[39m\u001B[33m\"\u001B[39m, \u001B[38;5;28;01mNone\u001B[39;00m))\n\u001B[32m    619\u001B[39m \u001B[38;5;66;03m# Create the parser.\u001B[39;00m\n\u001B[32m--> \u001B[39m\u001B[32m620\u001B[39m parser = \u001B[43mTextFileReader\u001B[49m\u001B[43m(\u001B[49m\u001B[43mfilepath_or_buffer\u001B[49m\u001B[43m,\u001B[49m\u001B[43m \u001B[49m\u001B[43m*\u001B[49m\u001B[43m*\u001B[49m\u001B[43mkwds\u001B[49m\u001B[43m)\u001B[49m\n\u001B[32m    622\u001B[39m \u001B[38;5;28;01mif\u001B[39;00m chunksize \u001B[38;5;129;01mor\u001B[39;00m iterator:\n\u001B[32m    623\u001B[39m     \u001B[38;5;28;01mreturn\u001B[39;00m parser\n",
      "\u001B[36mFile \u001B[39m\u001B[32m~\\PycharmProjects\\red electrica\\.venv\\Lib\\site-packages\\pandas\\io\\parsers\\readers.py:1620\u001B[39m, in \u001B[36mTextFileReader.__init__\u001B[39m\u001B[34m(self, f, engine, **kwds)\u001B[39m\n\u001B[32m   1617\u001B[39m     \u001B[38;5;28mself\u001B[39m.options[\u001B[33m\"\u001B[39m\u001B[33mhas_index_names\u001B[39m\u001B[33m\"\u001B[39m] = kwds[\u001B[33m\"\u001B[39m\u001B[33mhas_index_names\u001B[39m\u001B[33m\"\u001B[39m]\n\u001B[32m   1619\u001B[39m \u001B[38;5;28mself\u001B[39m.handles: IOHandles | \u001B[38;5;28;01mNone\u001B[39;00m = \u001B[38;5;28;01mNone\u001B[39;00m\n\u001B[32m-> \u001B[39m\u001B[32m1620\u001B[39m \u001B[38;5;28mself\u001B[39m._engine = \u001B[38;5;28;43mself\u001B[39;49m\u001B[43m.\u001B[49m\u001B[43m_make_engine\u001B[49m\u001B[43m(\u001B[49m\u001B[43mf\u001B[49m\u001B[43m,\u001B[49m\u001B[43m \u001B[49m\u001B[38;5;28;43mself\u001B[39;49m\u001B[43m.\u001B[49m\u001B[43mengine\u001B[49m\u001B[43m)\u001B[49m\n",
      "\u001B[36mFile \u001B[39m\u001B[32m~\\PycharmProjects\\red electrica\\.venv\\Lib\\site-packages\\pandas\\io\\parsers\\readers.py:1880\u001B[39m, in \u001B[36mTextFileReader._make_engine\u001B[39m\u001B[34m(self, f, engine)\u001B[39m\n\u001B[32m   1878\u001B[39m     \u001B[38;5;28;01mif\u001B[39;00m \u001B[33m\"\u001B[39m\u001B[33mb\u001B[39m\u001B[33m\"\u001B[39m \u001B[38;5;129;01mnot\u001B[39;00m \u001B[38;5;129;01min\u001B[39;00m mode:\n\u001B[32m   1879\u001B[39m         mode += \u001B[33m\"\u001B[39m\u001B[33mb\u001B[39m\u001B[33m\"\u001B[39m\n\u001B[32m-> \u001B[39m\u001B[32m1880\u001B[39m \u001B[38;5;28mself\u001B[39m.handles = \u001B[43mget_handle\u001B[49m\u001B[43m(\u001B[49m\n\u001B[32m   1881\u001B[39m \u001B[43m    \u001B[49m\u001B[43mf\u001B[49m\u001B[43m,\u001B[49m\n\u001B[32m   1882\u001B[39m \u001B[43m    \u001B[49m\u001B[43mmode\u001B[49m\u001B[43m,\u001B[49m\n\u001B[32m   1883\u001B[39m \u001B[43m    \u001B[49m\u001B[43mencoding\u001B[49m\u001B[43m=\u001B[49m\u001B[38;5;28;43mself\u001B[39;49m\u001B[43m.\u001B[49m\u001B[43moptions\u001B[49m\u001B[43m.\u001B[49m\u001B[43mget\u001B[49m\u001B[43m(\u001B[49m\u001B[33;43m\"\u001B[39;49m\u001B[33;43mencoding\u001B[39;49m\u001B[33;43m\"\u001B[39;49m\u001B[43m,\u001B[49m\u001B[43m \u001B[49m\u001B[38;5;28;43;01mNone\u001B[39;49;00m\u001B[43m)\u001B[49m\u001B[43m,\u001B[49m\n\u001B[32m   1884\u001B[39m \u001B[43m    \u001B[49m\u001B[43mcompression\u001B[49m\u001B[43m=\u001B[49m\u001B[38;5;28;43mself\u001B[39;49m\u001B[43m.\u001B[49m\u001B[43moptions\u001B[49m\u001B[43m.\u001B[49m\u001B[43mget\u001B[49m\u001B[43m(\u001B[49m\u001B[33;43m\"\u001B[39;49m\u001B[33;43mcompression\u001B[39;49m\u001B[33;43m\"\u001B[39;49m\u001B[43m,\u001B[49m\u001B[43m \u001B[49m\u001B[38;5;28;43;01mNone\u001B[39;49;00m\u001B[43m)\u001B[49m\u001B[43m,\u001B[49m\n\u001B[32m   1885\u001B[39m \u001B[43m    \u001B[49m\u001B[43mmemory_map\u001B[49m\u001B[43m=\u001B[49m\u001B[38;5;28;43mself\u001B[39;49m\u001B[43m.\u001B[49m\u001B[43moptions\u001B[49m\u001B[43m.\u001B[49m\u001B[43mget\u001B[49m\u001B[43m(\u001B[49m\u001B[33;43m\"\u001B[39;49m\u001B[33;43mmemory_map\u001B[39;49m\u001B[33;43m\"\u001B[39;49m\u001B[43m,\u001B[49m\u001B[43m \u001B[49m\u001B[38;5;28;43;01mFalse\u001B[39;49;00m\u001B[43m)\u001B[49m\u001B[43m,\u001B[49m\n\u001B[32m   1886\u001B[39m \u001B[43m    \u001B[49m\u001B[43mis_text\u001B[49m\u001B[43m=\u001B[49m\u001B[43mis_text\u001B[49m\u001B[43m,\u001B[49m\n\u001B[32m   1887\u001B[39m \u001B[43m    \u001B[49m\u001B[43merrors\u001B[49m\u001B[43m=\u001B[49m\u001B[38;5;28;43mself\u001B[39;49m\u001B[43m.\u001B[49m\u001B[43moptions\u001B[49m\u001B[43m.\u001B[49m\u001B[43mget\u001B[49m\u001B[43m(\u001B[49m\u001B[33;43m\"\u001B[39;49m\u001B[33;43mencoding_errors\u001B[39;49m\u001B[33;43m\"\u001B[39;49m\u001B[43m,\u001B[49m\u001B[43m \u001B[49m\u001B[33;43m\"\u001B[39;49m\u001B[33;43mstrict\u001B[39;49m\u001B[33;43m\"\u001B[39;49m\u001B[43m)\u001B[49m\u001B[43m,\u001B[49m\n\u001B[32m   1888\u001B[39m \u001B[43m    \u001B[49m\u001B[43mstorage_options\u001B[49m\u001B[43m=\u001B[49m\u001B[38;5;28;43mself\u001B[39;49m\u001B[43m.\u001B[49m\u001B[43moptions\u001B[49m\u001B[43m.\u001B[49m\u001B[43mget\u001B[49m\u001B[43m(\u001B[49m\u001B[33;43m\"\u001B[39;49m\u001B[33;43mstorage_options\u001B[39;49m\u001B[33;43m\"\u001B[39;49m\u001B[43m,\u001B[49m\u001B[43m \u001B[49m\u001B[38;5;28;43;01mNone\u001B[39;49;00m\u001B[43m)\u001B[49m\u001B[43m,\u001B[49m\n\u001B[32m   1889\u001B[39m \u001B[43m\u001B[49m\u001B[43m)\u001B[49m\n\u001B[32m   1890\u001B[39m \u001B[38;5;28;01massert\u001B[39;00m \u001B[38;5;28mself\u001B[39m.handles \u001B[38;5;129;01mis\u001B[39;00m \u001B[38;5;129;01mnot\u001B[39;00m \u001B[38;5;28;01mNone\u001B[39;00m\n\u001B[32m   1891\u001B[39m f = \u001B[38;5;28mself\u001B[39m.handles.handle\n",
      "\u001B[36mFile \u001B[39m\u001B[32m~\\PycharmProjects\\red electrica\\.venv\\Lib\\site-packages\\pandas\\io\\common.py:873\u001B[39m, in \u001B[36mget_handle\u001B[39m\u001B[34m(path_or_buf, mode, encoding, compression, memory_map, is_text, errors, storage_options)\u001B[39m\n\u001B[32m    868\u001B[39m \u001B[38;5;28;01melif\u001B[39;00m \u001B[38;5;28misinstance\u001B[39m(handle, \u001B[38;5;28mstr\u001B[39m):\n\u001B[32m    869\u001B[39m     \u001B[38;5;66;03m# Check whether the filename is to be opened in binary mode.\u001B[39;00m\n\u001B[32m    870\u001B[39m     \u001B[38;5;66;03m# Binary mode does not support 'encoding' and 'newline'.\u001B[39;00m\n\u001B[32m    871\u001B[39m     \u001B[38;5;28;01mif\u001B[39;00m ioargs.encoding \u001B[38;5;129;01mand\u001B[39;00m \u001B[33m\"\u001B[39m\u001B[33mb\u001B[39m\u001B[33m\"\u001B[39m \u001B[38;5;129;01mnot\u001B[39;00m \u001B[38;5;129;01min\u001B[39;00m ioargs.mode:\n\u001B[32m    872\u001B[39m         \u001B[38;5;66;03m# Encoding\u001B[39;00m\n\u001B[32m--> \u001B[39m\u001B[32m873\u001B[39m         handle = \u001B[38;5;28;43mopen\u001B[39;49m\u001B[43m(\u001B[49m\n\u001B[32m    874\u001B[39m \u001B[43m            \u001B[49m\u001B[43mhandle\u001B[49m\u001B[43m,\u001B[49m\n\u001B[32m    875\u001B[39m \u001B[43m            \u001B[49m\u001B[43mioargs\u001B[49m\u001B[43m.\u001B[49m\u001B[43mmode\u001B[49m\u001B[43m,\u001B[49m\n\u001B[32m    876\u001B[39m \u001B[43m            \u001B[49m\u001B[43mencoding\u001B[49m\u001B[43m=\u001B[49m\u001B[43mioargs\u001B[49m\u001B[43m.\u001B[49m\u001B[43mencoding\u001B[49m\u001B[43m,\u001B[49m\n\u001B[32m    877\u001B[39m \u001B[43m            \u001B[49m\u001B[43merrors\u001B[49m\u001B[43m=\u001B[49m\u001B[43merrors\u001B[49m\u001B[43m,\u001B[49m\n\u001B[32m    878\u001B[39m \u001B[43m            \u001B[49m\u001B[43mnewline\u001B[49m\u001B[43m=\u001B[49m\u001B[33;43m\"\u001B[39;49m\u001B[33;43m\"\u001B[39;49m\u001B[43m,\u001B[49m\n\u001B[32m    879\u001B[39m \u001B[43m        \u001B[49m\u001B[43m)\u001B[49m\n\u001B[32m    880\u001B[39m     \u001B[38;5;28;01melse\u001B[39;00m:\n\u001B[32m    881\u001B[39m         \u001B[38;5;66;03m# Binary mode\u001B[39;00m\n\u001B[32m    882\u001B[39m         handle = \u001B[38;5;28mopen\u001B[39m(handle, ioargs.mode)\n",
      "\u001B[31mFileNotFoundError\u001B[39m: [Errno 2] No such file or directory: 'C:\\\\Users\\\\TP_Ar\\\\PycharmProjects\\\\red electrica\\\\data\\\\raw\\\\sample_demand_gba_hourly.csv'"
     ]
    }
   ],
   "execution_count": 5
  },
  {
   "cell_type": "code",
   "execution_count": null,
   "id": "ccbaa3a7",
   "metadata": {},
   "outputs": [],
   "source": [
    "\n",
    "# Feature engineering\n",
    "dem_h[\"date\"] = dem_h[\"datetime\"].dt.normalize()\n",
    "agg = dem_h.groupby([\"date\",\"region\"])[\"demand_mw\"].agg(demand_mean=\"mean\", demand_max=\"max\").reset_index()\n",
    "temp_daily = temp_d.groupby(\"date\")[[\"tmean\",\"tmax\",\"tmin\"]].mean().reset_index()\n",
    "df = agg.merge(temp_daily, on=\"date\", how=\"left\")\n",
    "df[\"CDD_22\"] = (df[\"tmean\"] - 22).clip(lower=0)\n",
    "df[\"HDD_18\"] = (18 - df[\"tmean\"]).clip(lower=0)\n",
    "for k in range(1, 4):\n",
    "    for col in [\"tmean\",\"tmax\",\"tmin\",\"CDD_22\",\"HDD_18\"]:\n",
    "        df[f\"{col}_lag{k}\"] = df[col].shift(k)\n",
    "display(df.head())\n"
   ]
  },
  {
   "cell_type": "code",
   "execution_count": null,
   "id": "dd62e23b",
   "metadata": {},
   "outputs": [],
   "source": [
    "\n",
    "# Correlaciones\n",
    "def corr_table(data: pd.DataFrame, y: str, xs: list) -> pd.DataFrame:\n",
    "    rows = []\n",
    "    sub = data.dropna(subset=[y]+xs)\n",
    "    for x in xs:\n",
    "        pear = stats.pearsonr(sub[x], sub[y])\n",
    "        spear = stats.spearmanr(sub[x], sub[y])\n",
    "        rows.append({\n",
    "            \"y\": y, \"x\": x,\n",
    "            \"pearson_r\": pear[0], \"pearson_p\": pear[1],\n",
    "            \"spearman_r\": spear[0], \"spearman_p\": spear[1],\n",
    "            \"n\": len(sub)\n",
    "        })\n",
    "    return pd.DataFrame(rows).sort_values(by=\"pearson_r\", ascending=False)\n",
    "\n",
    "X_COLS = [\"tmean\",\"tmax\",\"tmin\",\"CDD_22\",\"HDD_18\",\"tmean_lag1\",\"tmean_lag2\",\"tmean_lag3\"]\n",
    "ct = corr_table(df, \"demand_mean\", X_COLS)\n",
    "ct.to_csv(OUTPUTS / \"correlaciones_demanda_vs_temp.csv\", index=False)\n",
    "ct\n"
   ]
  },
  {
   "cell_type": "code",
   "execution_count": null,
   "id": "6c310dc0",
   "metadata": {},
   "outputs": [],
   "source": [
    "\n",
    "# Plot\n",
    "sub = df.dropna(subset=[\"demand_mean\",\"tmean\"])\n",
    "plt.figure(figsize=(6,4))\n",
    "plt.scatter(sub[\"tmean\"], sub[\"demand_mean\"])\n",
    "plt.xlabel(\"Temperatura media diaria (°C)\")\n",
    "plt.ylabel(\"Demanda media diaria (MW)\")\n",
    "plt.title(\"Relación Demanda vs. Temperatura (GBA, diario)\")\n",
    "plt.grid(True, alpha=0.3)\n",
    "plt.show()\n"
   ]
  },
  {
   "cell_type": "code",
   "execution_count": null,
   "id": "e5cb25f5",
   "metadata": {},
   "outputs": [],
   "source": [
    "\n",
    "# Modelo Poisson simple para cortes\n",
    "temp_daily = temp_d.groupby(\"date\")[[\"tmean\",\"tmax\",\"tmin\"]].mean().reset_index()\n",
    "cortes = cortes_d.merge(temp_daily, on=\"date\", how=\"left\").dropna(subset=[\"cortes_count\",\"tmean\"])\n",
    "for k in range(1, 4):\n",
    "    cortes[f\"tmean_lag{k}\"] = cortes.groupby(\"zona\")[\"tmean\"].shift(k)\n",
    "model_data = cortes.dropna(subset=[\"tmean\",\"tmean_lag1\",\"cortes_count\"]).copy()\n",
    "X = sm.add_constant(model_data[[\"tmean\",\"tmean_lag1\"]]); y = model_data[\"cortes_count\"]\n",
    "poisson_model = sm.GLM(y, X, family=sm.families.Poisson())\n",
    "poisson_res = poisson_model.fit()\n",
    "print(poisson_res.summary())\n"
   ]
  },
  {
   "cell_type": "code",
   "execution_count": null,
   "id": "6cc99505",
   "metadata": {},
   "outputs": [],
   "source": [
    "\n",
    "# Guardados\n",
    "df.to_csv(DATA_PROCESSED / \"gba_daily_demand_temp.csv\", index=False)\n",
    "print(\"Guardado:\", DATA_PROCESSED / \"gba_daily_demand_temp.csv\")\n",
    "print(\"Guardado:\", OUTPUTS / \"correlaciones_demanda_vs_temp.csv\")\n"
   ]
  }
 ],
 "metadata": {
  "kernelspec": {
   "name": "python3",
   "language": "python",
   "display_name": "Python 3 (ipykernel)"
  }
 },
 "nbformat": 4,
 "nbformat_minor": 5
}
