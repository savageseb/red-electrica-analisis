{
 "cells": [
  {
   "cell_type": "markdown",
   "id": "4f2f6670",
   "metadata": {},
   "source": [
    "# Correlación Carga ↔ Temperatura ↔ Cortes (AMBA)"
   ]
  },
  {
   "cell_type": "markdown",
   "id": "9d531ec7",
   "metadata": {},
   "source": [
    "**Este notebook corre end-to-end con datos de ejemplo en `data/raw/`.**"
   ]
  },
  {
   "cell_type": "code",
   "execution_count": null,
   "id": "3d415f13",
   "metadata": {},
   "outputs": [],
   "source": [
    "\n",
    "# %pip install pandas numpy matplotlib scipy statsmodels requests\n",
    "import os, warnings\n",
    "from pathlib import Path\n",
    "import numpy as np, pandas as pd\n",
    "import matplotlib.pyplot as plt\n",
    "from scipy import stats\n",
    "import statsmodels.api as sm\n",
    "\n",
    "warnings.filterwarnings(\"ignore\")\n",
    "TZ = \"America/Argentina/Buenos_Aires\"\n",
    "BASE = Path().resolve()\n",
    "DATA_RAW = BASE / \"data\" / \"raw\"\n",
    "DATA_INTERIM = BASE / \"data\" / \"interim\"\n",
    "DATA_PROCESSED = BASE / \"data\" / \"processed\"\n",
    "OUTPUTS = BASE / \"outputs\"\n",
    "for p in [DATA_RAW, DATA_INTERIM, DATA_PROCESSED, OUTPUTS]:\n",
    "    p.mkdir(parents=True, exist_ok=True)\n",
    "DATE_START = \"2025-01-01\"; DATE_END = \"2025-03-31\"\n",
    "PATH_DEMANDA_HORARIA = DATA_RAW / \"sample_demand_gba_hourly.csv\"\n",
    "PATH_TEMPERATURA_D   = DATA_RAW / \"sample_temperature_daily.csv\"\n",
    "PATH_SAIDI_SAIFI     = DATA_RAW / \"sample_enre_saidi_saifi.csv\"\n",
    "PATH_CORTES_D        = DATA_RAW / \"sample_cortes_daily.csv\"\n"
   ]
  },
  {
   "cell_type": "code",
   "execution_count": null,
   "id": "951e1506",
   "metadata": {},
   "outputs": [],
   "source": [
    "\n",
    "# Carga de datos (demo)\n",
    "dem_h = pd.read_csv(PATH_DEMANDA_HORARIA, parse_dates=[\"datetime\"])\n",
    "if dem_h[\"datetime\"].dt.tz is None:\n",
    "    dem_h[\"datetime\"] = dem_h[\"datetime\"].dt.tz_localize(\"UTC\").dt.tz_convert(TZ)\n",
    "dem_h = dem_h[(dem_h[\"datetime\"]>=pd.Timestamp(DATE_START, tz=TZ)) & (dem_h[\"datetime\"]<=pd.Timestamp(DATE_END, tz=TZ)+pd.Timedelta(days=1))]\n",
    "temp_d = pd.read_csv(PATH_TEMPERATURA_D, parse_dates=[\"date\"])\n",
    "temp_d[\"date\"] = temp_d[\"date\"].dt.tz_localize(TZ).dt.normalize()\n",
    "saifi = pd.read_csv(PATH_SAIDI_SAIFI, parse_dates=[\"semester_start\",\"semester_end\"])\n",
    "cortes_d = pd.read_csv(PATH_CORTES_D, parse_dates=[\"date\"])\n",
    "cortes_d[\"date\"] = cortes_d[\"date\"].dt.tz_localize(TZ).dt.normalize()\n",
    "display(dem_h.head()); display(temp_d.head()); display(saifi.head()); display(cortes_d.head())\n"
   ]
  },
  {
   "cell_type": "code",
   "execution_count": null,
   "id": "ccbaa3a7",
   "metadata": {},
   "outputs": [],
   "source": [
    "\n",
    "# Feature engineering\n",
    "dem_h[\"date\"] = dem_h[\"datetime\"].dt.normalize()\n",
    "agg = dem_h.groupby([\"date\",\"region\"])[\"demand_mw\"].agg(demand_mean=\"mean\", demand_max=\"max\").reset_index()\n",
    "temp_daily = temp_d.groupby(\"date\")[[\"tmean\",\"tmax\",\"tmin\"]].mean().reset_index()\n",
    "df = agg.merge(temp_daily, on=\"date\", how=\"left\")\n",
    "df[\"CDD_22\"] = (df[\"tmean\"] - 22).clip(lower=0)\n",
    "df[\"HDD_18\"] = (18 - df[\"tmean\"]).clip(lower=0)\n",
    "for k in range(1, 4):\n",
    "    for col in [\"tmean\",\"tmax\",\"tmin\",\"CDD_22\",\"HDD_18\"]:\n",
    "        df[f\"{col}_lag{k}\"] = df[col].shift(k)\n",
    "display(df.head())\n"
   ]
  },
  {
   "cell_type": "code",
   "execution_count": null,
   "id": "dd62e23b",
   "metadata": {},
   "outputs": [],
   "source": [
    "\n",
    "# Correlaciones\n",
    "def corr_table(data: pd.DataFrame, y: str, xs: list) -> pd.DataFrame:\n",
    "    rows = []\n",
    "    sub = data.dropna(subset=[y]+xs)\n",
    "    for x in xs:\n",
    "        pear = stats.pearsonr(sub[x], sub[y])\n",
    "        spear = stats.spearmanr(sub[x], sub[y])\n",
    "        rows.append({\n",
    "            \"y\": y, \"x\": x,\n",
    "            \"pearson_r\": pear[0], \"pearson_p\": pear[1],\n",
    "            \"spearman_r\": spear[0], \"spearman_p\": spear[1],\n",
    "            \"n\": len(sub)\n",
    "        })\n",
    "    return pd.DataFrame(rows).sort_values(by=\"pearson_r\", ascending=False)\n",
    "\n",
    "X_COLS = [\"tmean\",\"tmax\",\"tmin\",\"CDD_22\",\"HDD_18\",\"tmean_lag1\",\"tmean_lag2\",\"tmean_lag3\"]\n",
    "ct = corr_table(df, \"demand_mean\", X_COLS)\n",
    "ct.to_csv(OUTPUTS / \"correlaciones_demanda_vs_temp.csv\", index=False)\n",
    "ct\n"
   ]
  },
  {
   "cell_type": "code",
   "execution_count": null,
   "id": "6c310dc0",
   "metadata": {},
   "outputs": [],
   "source": [
    "\n",
    "# Plot\n",
    "sub = df.dropna(subset=[\"demand_mean\",\"tmean\"])\n",
    "plt.figure(figsize=(6,4))\n",
    "plt.scatter(sub[\"tmean\"], sub[\"demand_mean\"])\n",
    "plt.xlabel(\"Temperatura media diaria (°C)\")\n",
    "plt.ylabel(\"Demanda media diaria (MW)\")\n",
    "plt.title(\"Relación Demanda vs. Temperatura (GBA, diario)\")\n",
    "plt.grid(True, alpha=0.3)\n",
    "plt.show()\n"
   ]
  },
  {
   "cell_type": "code",
   "execution_count": null,
   "id": "e5cb25f5",
   "metadata": {},
   "outputs": [],
   "source": [
    "\n",
    "# Modelo Poisson simple para cortes\n",
    "temp_daily = temp_d.groupby(\"date\")[[\"tmean\",\"tmax\",\"tmin\"]].mean().reset_index()\n",
    "cortes = cortes_d.merge(temp_daily, on=\"date\", how=\"left\").dropna(subset=[\"cortes_count\",\"tmean\"])\n",
    "for k in range(1, 4):\n",
    "    cortes[f\"tmean_lag{k}\"] = cortes.groupby(\"zona\")[\"tmean\"].shift(k)\n",
    "model_data = cortes.dropna(subset=[\"tmean\",\"tmean_lag1\",\"cortes_count\"]).copy()\n",
    "X = sm.add_constant(model_data[[\"tmean\",\"tmean_lag1\"]]); y = model_data[\"cortes_count\"]\n",
    "poisson_model = sm.GLM(y, X, family=sm.families.Poisson())\n",
    "poisson_res = poisson_model.fit()\n",
    "print(poisson_res.summary())\n"
   ]
  },
  {
   "cell_type": "code",
   "execution_count": null,
   "id": "6cc99505",
   "metadata": {},
   "outputs": [],
   "source": [
    "\n",
    "# Guardados\n",
    "df.to_csv(DATA_PROCESSED / \"gba_daily_demand_temp.csv\", index=False)\n",
    "print(\"Guardado:\", DATA_PROCESSED / \"gba_daily_demand_temp.csv\")\n",
    "print(\"Guardado:\", OUTPUTS / \"correlaciones_demanda_vs_temp.csv\")\n"
   ]
  }
 ],
 "metadata": {},
 "nbformat": 4,
 "nbformat_minor": 5
}
